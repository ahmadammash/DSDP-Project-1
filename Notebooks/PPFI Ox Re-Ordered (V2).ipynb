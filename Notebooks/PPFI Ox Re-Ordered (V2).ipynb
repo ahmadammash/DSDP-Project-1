{
 "cells": [
  {
   "cell_type": "markdown",
   "id": "8d29784b",
   "metadata": {},
   "source": [
    "## Import the Required Libraries"
   ]
  },
  {
   "cell_type": "code",
   "execution_count": 1,
   "id": "dfdea360",
   "metadata": {},
   "outputs": [],
   "source": [
    "import pandas as pd\n",
    "import numpy as np\n",
    "import geopandas as gpd\n",
    "import matplotlib.pyplot as plt\n",
    "import pyproj\n",
    "import contextily as ctx\n",
    "import seaborn as sns\n",
    "import geoplot as gplt\n",
    "import geoplot.crs as gcrs\n",
    "import folium\n",
    "import matplotlib.ticker as ticker\n",
    "import scipy.stats\n",
    "import webbrowser\n",
    "from scipy.stats import shapiro\n",
    "import statsmodels.api as sm\n",
    "from scipy.stats import spearmanr\n",
    "from scipy.stats import kendalltau\n",
    "from sklearn.preprocessing import MinMaxScaler\n",
    "import matplotlib\n",
    "from IPython.display import display, HTML, Image\n",
    "import json\n",
    "from scipy import stats\n",
    "%matplotlib inline\n",
    "import dataframe_image as dfi\n",
    "import mgwr\n",
    "import libpysal as ps\n",
    "from mgwr.gwr import GWR, MGWR\n",
    "from mgwr.sel_bw import Sel_BW\n",
    "from mgwr.utils import compare_surfaces, truncate_colormap\n",
    "from matplotlib.colors import LinearSegmentedColormap\n",
    "from shapely.geometry import Point\n",
    "import pysal\n",
    "from pysal.model import spreg\n",
    "import textwrap\n",
    "import matplotlib.colors as colors#\n",
    "import statistics"
   ]
  },
  {
   "cell_type": "markdown",
   "id": "0c3476f0",
   "metadata": {},
   "source": [
    "## Import the Datasets"
   ]
  },
  {
   "cell_type": "code",
   "execution_count": 31,
   "id": "cd7e6105",
   "metadata": {},
   "outputs": [],
   "source": [
    "# PPFI version 2\n",
    "file_path = \"C:/Users/medaamm/OneDrive - University of Leeds/Project 1 Final Paper/DSDP-Project-1/Datasets/PPFI (V2).csv\"\n",
    "PPFI_V2 = pd.read_csv(file_path)\n",
    "\n",
    "# LSOA 2011 to LSOA 2021\n",
    "file_path = \"C:/Users/medaamm/OneDrive - University of Leeds/Project 1 Final Paper/DSDP-Project-1/Datasets/LSOA (2011) to LSOA (2021).csv\"\n",
    "LSOA11_LSOA21 = pd.read_csv(file_path)\n",
    "\n",
    "# Oxfordshire LSOAs 2011\n",
    "file_path = \"C:/Users/medaamm/OneDrive - University of Leeds/Project 1 Final Paper/DSDP-Project-1/Datasets/Oxfordshire LSOAs.csv\"\n",
    "Ox_LSOA11 = pd.read_csv(file_path)"
   ]
  },
  {
   "cell_type": "markdown",
   "id": "96458e2a",
   "metadata": {},
   "source": [
    "## Merge the Datasets"
   ]
  },
  {
   "cell_type": "code",
   "execution_count": 32,
   "id": "53c8a4b3",
   "metadata": {},
   "outputs": [],
   "source": [
    "PPFI_V2_Ox_Reordered = PPFI_V2.merge(LSOA11_LSOA21, on='LSOA21CD', how='inner')"
   ]
  },
  {
   "cell_type": "code",
   "execution_count": 33,
   "id": "68a1b5a5",
   "metadata": {},
   "outputs": [],
   "source": [
    "PPFI_V2_Ox_Reordered = PPFI_V2_Ox_Reordered.merge(Ox_LSOA11[['LSOA11CD']], on='LSOA11CD', how='inner')"
   ]
  },
  {
   "cell_type": "markdown",
   "id": "7c4d40cb",
   "metadata": {},
   "source": [
    "## Create the quantiles for the combined dimension"
   ]
  },
  {
   "cell_type": "code",
   "execution_count": 34,
   "id": "c2066b3e",
   "metadata": {},
   "outputs": [],
   "source": [
    "PPFI_V2_Ox_Reordered['pp_dec_Ox'] = pd.qcut(PPFI_V2_Ox_Reordered['combined'],\n",
    "                                                 q=10,\n",
    "                                                  labels=range(1,11))"
   ]
  },
  {
   "cell_type": "markdown",
   "id": "0a6047c5",
   "metadata": {},
   "source": [
    "## Create the quantiles for the separate PPFI dimensions"
   ]
  },
  {
   "cell_type": "code",
   "execution_count": 35,
   "id": "54c1235c",
   "metadata": {},
   "outputs": [],
   "source": [
    "PPFI_V2_Ox_Reordered['SM_Prox_dec_Ox'] = pd.qcut(PPFI_V2_Ox_Reordered['domain_supermarket_proximity'],\n",
    "                                             q=10, labels=range(1,11))\n",
    "PPFI_V2_Ox_Reordered['SM_Acc_dec_Ox'] = pd.qcut(PPFI_V2_Ox_Reordered['domain_supermarket_accessibility'],\n",
    "                                            q=10, labels=range(1,11))\n",
    "PPFI_V2_Ox_Reordered['NonSM_Prox_dec_Ox'] = pd.qcut(PPFI_V2_Ox_Reordered['domain_nonsupermarket_proximity'],\n",
    "                                            q=10, labels=range(1,11))\n",
    "PPFI_V2_Ox_Reordered['fuelPov_dec_Ox'] = pd.qcut(PPFI_V2_Ox_Reordered['domain_fuel_poverty'],\n",
    "                                             q=10, labels=range(1,11))\n",
    "PPFI_V2_Ox_Reordered['SD_dec_Ox'] = pd.qcut(PPFI_V2_Ox_Reordered['domain_socio_demographic'],\n",
    "                                            q=10, labels=range(1,11))\n",
    "PPFI_V2_Ox_Reordered['FFF_dec_Ox'] = pd.qcut(PPFI_V2_Ox_Reordered['domain_food_for_families'],\n",
    "                                             q=10, labels=range(1,11))"
   ]
  },
  {
   "cell_type": "code",
   "execution_count": 36,
   "id": "86a8e97a",
   "metadata": {},
   "outputs": [],
   "source": [
    "PPFI_V2_Ox_Reordered['E_Comm_dec_Ox'] = pd.cut(PPFI_V2_Ox_Reordered['domain_ecommerce_access'],bins=10, labels=range(1,11))"
   ]
  },
  {
   "cell_type": "code",
   "execution_count": 37,
   "id": "65d54f8a",
   "metadata": {},
   "outputs": [],
   "source": [
    "PPFI_V2_Ox_Reordered = PPFI_V2_Ox_Reordered.drop(['domain_supermarket_proximity',\n",
    "       'domain_supermarket_accessibility', 'domain_ecommerce_access',\n",
    "       'domain_socio_demographic', 'domain_nonsupermarket_proximity',\n",
    "       'domain_food_for_families', 'domain_fuel_poverty', 'country',\n",
    "       'country_denominator', 'combined',\n",
    "       'pp_dec_domain_supermarket_proximity',\n",
    "       'pp_dec_domain_supermarket_accessibility',\n",
    "       'pp_dec_domain_ecommerce_access', 'pp_dec_domain_socio_demographic',\n",
    "       'pp_dec_domain_nonsupermarket_proximity',\n",
    "       'pp_dec_domain_food_for_families', 'pp_dec_domain_fuel_poverty',\n",
    "       'pp_dec_combined',],axis=1)"
   ]
  },
  {
   "cell_type": "code",
   "execution_count": 38,
   "id": "39accad4",
   "metadata": {},
   "outputs": [],
   "source": [
    "PPFI_V2_Ox_Reordered = PPFI_V2_Ox_Reordered.rename(columns=\n",
    "{\n",
    "    'pp_dec_Ox':'PPFI Combined Decile',\n",
    "    'SM_Prox_dec_Ox':'Supermarket Proximity',\n",
    "    'SM_Acc_dec_Ox':'Supermarket Accessibility',\n",
    "    'NonSM_Prox_dec_Ox':'Non-Supermarket Proximity',\n",
    "    'fuelPov_dec_Ox': 'Fuel Poverty',\n",
    "    'SD_dec_Ox':'Socio-demographic Barriers',\n",
    "    'FFF_dec_Ox':'Food Support for Families',\n",
    "    'E_Comm_dec_Ox':'E-Commerce Access'\n",
    "})"
   ]
  },
  {
   "cell_type": "code",
   "execution_count": 43,
   "id": "418253e8",
   "metadata": {},
   "outputs": [
    {
     "data": {
      "text/html": [
       "<div>\n",
       "<style scoped>\n",
       "    .dataframe tbody tr th:only-of-type {\n",
       "        vertical-align: middle;\n",
       "    }\n",
       "\n",
       "    .dataframe tbody tr th {\n",
       "        vertical-align: top;\n",
       "    }\n",
       "\n",
       "    .dataframe thead th {\n",
       "        text-align: right;\n",
       "    }\n",
       "</style>\n",
       "<table border=\"1\" class=\"dataframe\">\n",
       "  <thead>\n",
       "    <tr style=\"text-align: right;\">\n",
       "      <th></th>\n",
       "      <th>LSOA21CD</th>\n",
       "      <th>LSOA11CD</th>\n",
       "      <th>LSOA11NM</th>\n",
       "      <th>LSOA21NM</th>\n",
       "      <th>PPFI Combined Decile</th>\n",
       "      <th>Supermarket Proximity</th>\n",
       "      <th>Supermarket Accessibility</th>\n",
       "      <th>Non-Supermarket Proximity</th>\n",
       "      <th>Fuel Poverty</th>\n",
       "      <th>Socio-demographic Barriers</th>\n",
       "      <th>Food Support for Families</th>\n",
       "      <th>E-Commerce Access</th>\n",
       "    </tr>\n",
       "  </thead>\n",
       "  <tbody>\n",
       "    <tr>\n",
       "      <th>0</th>\n",
       "      <td>E01028422</td>\n",
       "      <td>E01028422</td>\n",
       "      <td>Cherwell 008A</td>\n",
       "      <td>Cherwell 008A</td>\n",
       "      <td>4</td>\n",
       "      <td>3</td>\n",
       "      <td>3</td>\n",
       "      <td>1</td>\n",
       "      <td>6</td>\n",
       "      <td>6</td>\n",
       "      <td>7</td>\n",
       "      <td>8</td>\n",
       "    </tr>\n",
       "    <tr>\n",
       "      <th>1</th>\n",
       "      <td>E01028423</td>\n",
       "      <td>E01028423</td>\n",
       "      <td>Cherwell 008B</td>\n",
       "      <td>Cherwell 008B</td>\n",
       "      <td>8</td>\n",
       "      <td>3</td>\n",
       "      <td>2</td>\n",
       "      <td>1</td>\n",
       "      <td>9</td>\n",
       "      <td>10</td>\n",
       "      <td>7</td>\n",
       "      <td>8</td>\n",
       "    </tr>\n",
       "    <tr>\n",
       "      <th>2</th>\n",
       "      <td>E01028426</td>\n",
       "      <td>E01028426</td>\n",
       "      <td>Cherwell 007A</td>\n",
       "      <td>Cherwell 007A</td>\n",
       "      <td>6</td>\n",
       "      <td>9</td>\n",
       "      <td>6</td>\n",
       "      <td>2</td>\n",
       "      <td>9</td>\n",
       "      <td>6</td>\n",
       "      <td>4</td>\n",
       "      <td>6</td>\n",
       "    </tr>\n",
       "    <tr>\n",
       "      <th>3</th>\n",
       "      <td>E01028427</td>\n",
       "      <td>E01028427</td>\n",
       "      <td>Cherwell 007B</td>\n",
       "      <td>Cherwell 007B</td>\n",
       "      <td>5</td>\n",
       "      <td>10</td>\n",
       "      <td>8</td>\n",
       "      <td>4</td>\n",
       "      <td>3</td>\n",
       "      <td>3</td>\n",
       "      <td>2</td>\n",
       "      <td>9</td>\n",
       "    </tr>\n",
       "    <tr>\n",
       "      <th>4</th>\n",
       "      <td>E01028428</td>\n",
       "      <td>E01028428</td>\n",
       "      <td>Cherwell 007C</td>\n",
       "      <td>Cherwell 007C</td>\n",
       "      <td>8</td>\n",
       "      <td>9</td>\n",
       "      <td>7</td>\n",
       "      <td>2</td>\n",
       "      <td>10</td>\n",
       "      <td>7</td>\n",
       "      <td>5</td>\n",
       "      <td>6</td>\n",
       "    </tr>\n",
       "  </tbody>\n",
       "</table>\n",
       "</div>"
      ],
      "text/plain": [
       "    LSOA21CD   LSOA11CD       LSOA11NM       LSOA21NM PPFI Combined Decile  \\\n",
       "0  E01028422  E01028422  Cherwell 008A  Cherwell 008A                    4   \n",
       "1  E01028423  E01028423  Cherwell 008B  Cherwell 008B                    8   \n",
       "2  E01028426  E01028426  Cherwell 007A  Cherwell 007A                    6   \n",
       "3  E01028427  E01028427  Cherwell 007B  Cherwell 007B                    5   \n",
       "4  E01028428  E01028428  Cherwell 007C  Cherwell 007C                    8   \n",
       "\n",
       "  Supermarket Proximity Supermarket Accessibility Non-Supermarket Proximity  \\\n",
       "0                     3                         3                         1   \n",
       "1                     3                         2                         1   \n",
       "2                     9                         6                         2   \n",
       "3                    10                         8                         4   \n",
       "4                     9                         7                         2   \n",
       "\n",
       "  Fuel Poverty Socio-demographic Barriers Food Support for Families  \\\n",
       "0            6                          6                         7   \n",
       "1            9                         10                         7   \n",
       "2            9                          6                         4   \n",
       "3            3                          3                         2   \n",
       "4           10                          7                         5   \n",
       "\n",
       "  E-Commerce Access  \n",
       "0                 8  \n",
       "1                 8  \n",
       "2                 6  \n",
       "3                 9  \n",
       "4                 6  "
      ]
     },
     "execution_count": 43,
     "metadata": {},
     "output_type": "execute_result"
    }
   ],
   "source": [
    "PPFI_V2_Ox_Reordered.head()"
   ]
  },
  {
   "cell_type": "code",
   "execution_count": 48,
   "id": "24c96128",
   "metadata": {},
   "outputs": [],
   "source": [
    "PPFI_V2_Ox_Reordered['District'] = PPFI_V2_Ox_Reordered['LSOA21NM'].str.extract('^([^0-9]+)')\n",
    "PPFI_V2_Ox_Reordered['District'] = PPFI_V2_Ox_Reordered['District'].str.strip()"
   ]
  },
  {
   "cell_type": "markdown",
   "id": "1278dee3",
   "metadata": {},
   "source": [
    "## Export to an Excel file"
   ]
  },
  {
   "cell_type": "code",
   "execution_count": 50,
   "id": "7d8f05b5",
   "metadata": {},
   "outputs": [],
   "source": [
    "PPFI_V2_Ox_Reordered.to_excel(\"C:/Users/medaamm/OneDrive - University of Leeds/Project 1 Final Paper/DSDP-Project-1/Datasets/PPFI V2 Ox Reordered.xlsx\")"
   ]
  }
 ],
 "metadata": {
  "kernelspec": {
   "display_name": "PPFI_ENV",
   "language": "python",
   "name": "ppfi_env"
  },
  "language_info": {
   "codemirror_mode": {
    "name": "ipython",
    "version": 3
   },
   "file_extension": ".py",
   "mimetype": "text/x-python",
   "name": "python",
   "nbconvert_exporter": "python",
   "pygments_lexer": "ipython3",
   "version": "3.11.5"
  }
 },
 "nbformat": 4,
 "nbformat_minor": 5
}
