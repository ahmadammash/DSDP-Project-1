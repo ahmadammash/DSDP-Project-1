{
 "cells": [
  {
   "cell_type": "markdown",
   "id": "8d29784b",
   "metadata": {},
   "source": [
    "## Import the Required Libraries"
   ]
  },
  {
   "cell_type": "code",
   "execution_count": 1,
   "id": "dfdea360",
   "metadata": {},
   "outputs": [],
   "source": [
    "import pandas as pd\n",
    "import numpy as np\n",
    "import geopandas as gpd\n",
    "import matplotlib.pyplot as plt\n",
    "import pyproj\n",
    "import contextily as ctx\n",
    "import seaborn as sns\n",
    "import geoplot as gplt\n",
    "import geoplot.crs as gcrs\n",
    "import folium\n",
    "import matplotlib.ticker as ticker\n",
    "import scipy.stats\n",
    "import webbrowser\n",
    "from scipy.stats import shapiro\n",
    "import statsmodels.api as sm\n",
    "from scipy.stats import spearmanr\n",
    "from scipy.stats import kendalltau\n",
    "from sklearn.preprocessing import MinMaxScaler\n",
    "import matplotlib\n",
    "from IPython.display import display, HTML, Image\n",
    "import json\n",
    "from scipy import stats\n",
    "%matplotlib inline\n",
    "import dataframe_image as dfi\n",
    "import mgwr\n",
    "import libpysal as ps\n",
    "from mgwr.gwr import GWR, MGWR\n",
    "from mgwr.sel_bw import Sel_BW\n",
    "from mgwr.utils import compare_surfaces, truncate_colormap\n",
    "from matplotlib.colors import LinearSegmentedColormap\n",
    "from shapely.geometry import Point\n",
    "import pysal\n",
    "from pysal.model import spreg\n",
    "import textwrap\n",
    "import matplotlib.colors as colors#\n",
    "import statistics"
   ]
  },
  {
   "cell_type": "markdown",
   "id": "0c3476f0",
   "metadata": {},
   "source": [
    "## Import the Datasets"
   ]
  },
  {
   "cell_type": "code",
   "execution_count": 2,
   "id": "cd7e6105",
   "metadata": {},
   "outputs": [],
   "source": [
    "# PPFI version 2\n",
    "file_path = \"C:/Users/medaamm/OneDrive - University of Leeds/Project 1 Final Paper/DSDP-Project-1/Datasets/PPFI (V2).csv\"\n",
    "PPFI_V2 = pd.read_csv(file_path)\n",
    "\n",
    "# LSOA 2011 to LSOA 2021\n",
    "file_path = \"C:/Users/medaamm/OneDrive - University of Leeds/Project 1 Final Paper/DSDP-Project-1/Datasets/LSOA (2011) to LSOA (2021).csv\"\n",
    "LSOA11_LSOA21 = pd.read_csv(file_path)\n",
    "\n",
    "# Oxfordshire LSOAs 2011\n",
    "file_path = \"C:/Users/medaamm/OneDrive - University of Leeds/Project 1 Final Paper/DSDP-Project-1/Datasets/Oxfordshire LSOAs.csv\"\n",
    "Ox_LSOA11 = pd.read_csv(file_path)"
   ]
  },
  {
   "cell_type": "markdown",
   "id": "96458e2a",
   "metadata": {},
   "source": [
    "## Merge the Datasets"
   ]
  },
  {
   "cell_type": "code",
   "execution_count": 3,
   "id": "53c8a4b3",
   "metadata": {},
   "outputs": [],
   "source": [
    "PPFI_V2_Ox_Reordered = PPFI_V2.merge(LSOA11_LSOA21, on='LSOA21CD', how='inner')"
   ]
  },
  {
   "cell_type": "code",
   "execution_count": 4,
   "id": "68a1b5a5",
   "metadata": {},
   "outputs": [],
   "source": [
    "PPFI_V2_Ox_Reordered = PPFI_V2_Ox_Reordered.merge(Ox_LSOA11[['LSOA11CD']], on='LSOA11CD', how='inner')"
   ]
  },
  {
   "cell_type": "markdown",
   "id": "7c4d40cb",
   "metadata": {},
   "source": [
    "## Create the quantiles for the combined dimension"
   ]
  },
  {
   "cell_type": "code",
   "execution_count": 5,
   "id": "c2066b3e",
   "metadata": {},
   "outputs": [],
   "source": [
    "PPFI_V2_Ox_Reordered['pp_dec_Ox'] = pd.qcut(PPFI_V2_Ox_Reordered['combined'],\n",
    "                                                 q=10,\n",
    "                                                  labels=range(1,11))"
   ]
  },
  {
   "cell_type": "markdown",
   "id": "0a6047c5",
   "metadata": {},
   "source": [
    "## Create the quantiles for the separate PPFI dimensions"
   ]
  },
  {
   "cell_type": "code",
   "execution_count": 6,
   "id": "54c1235c",
   "metadata": {},
   "outputs": [],
   "source": [
    "PPFI_V2_Ox_Reordered['SM_Prox_dec_Ox'] = pd.qcut(PPFI_V2_Ox_Reordered['domain_supermarket_proximity'],\n",
    "                                             q=10, labels=range(1,11))\n",
    "PPFI_V2_Ox_Reordered['SM_Acc_dec_Ox'] = pd.qcut(PPFI_V2_Ox_Reordered['domain_supermarket_accessibility'],\n",
    "                                            q=10, labels=range(1,11))\n",
    "PPFI_V2_Ox_Reordered['NonSM_Prox_dec_Ox'] = pd.qcut(PPFI_V2_Ox_Reordered['domain_nonsupermarket_proximity'],\n",
    "                                            q=10, labels=range(1,11))\n",
    "PPFI_V2_Ox_Reordered['fuelPov_dec_Ox'] = pd.qcut(PPFI_V2_Ox_Reordered['domain_fuel_poverty'],\n",
    "                                             q=10, labels=range(1,11))\n",
    "PPFI_V2_Ox_Reordered['SD_dec_Ox'] = pd.qcut(PPFI_V2_Ox_Reordered['domain_socio_demographic'],\n",
    "                                            q=10, labels=range(1,11))\n",
    "PPFI_V2_Ox_Reordered['FFF_dec_Ox'] = pd.qcut(PPFI_V2_Ox_Reordered['domain_food_for_families'],\n",
    "                                             q=10, labels=range(1,11))"
   ]
  },
  {
   "cell_type": "code",
   "execution_count": 7,
   "id": "86a8e97a",
   "metadata": {},
   "outputs": [],
   "source": [
    "PPFI_V2_Ox_Reordered['E_Comm_dec_Ox'] = pd.cut(PPFI_V2_Ox_Reordered['domain_ecommerce_access'],bins=10, labels=range(1,11))"
   ]
  },
  {
   "cell_type": "markdown",
   "id": "1278dee3",
   "metadata": {},
   "source": [
    "## Export to an Excel file"
   ]
  },
  {
   "cell_type": "code",
   "execution_count": 8,
   "id": "7d8f05b5",
   "metadata": {},
   "outputs": [],
   "source": [
    "PPFI_V2_Ox_Reordered.to_excel(\"C:/Users/medaamm/OneDrive - University of Leeds/Project 1 Final Paper/DSDP-Project-1/Datasets/PPFI V2 Ox Reordered.xlsx\")"
   ]
  }
 ],
 "metadata": {
  "kernelspec": {
   "display_name": "PPFI_ENV",
   "language": "python",
   "name": "ppfi_env"
  },
  "language_info": {
   "codemirror_mode": {
    "name": "ipython",
    "version": 3
   },
   "file_extension": ".py",
   "mimetype": "text/x-python",
   "name": "python",
   "nbconvert_exporter": "python",
   "pygments_lexer": "ipython3",
   "version": "3.11.5"
  }
 },
 "nbformat": 4,
 "nbformat_minor": 5
}
