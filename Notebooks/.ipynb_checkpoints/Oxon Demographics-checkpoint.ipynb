{
 "cells": [
  {
   "cell_type": "markdown",
   "id": "b9f36e0d",
   "metadata": {},
   "source": [
    "## Import the Required Libraries"
   ]
  },
  {
   "cell_type": "code",
   "execution_count": null,
   "id": "62a6d081",
   "metadata": {},
   "outputs": [],
   "source": [
    "import pandas as pd\n",
    "import numpy as np\n",
    "import geopandas as gpd\n",
    "import matplotlib.pyplot as plt\n",
    "import pyproj\n",
    "import contextily as ctx\n",
    "import seaborn as sns\n",
    "import geoplot as gplt\n",
    "import geoplot.crs as gcrs\n",
    "import folium\n",
    "import matplotlib.ticker as ticker\n",
    "import scipy.stats\n",
    "import webbrowser\n",
    "from scipy.stats import shapiro\n",
    "import statsmodels.api as sm\n",
    "from scipy.stats import spearmanr\n",
    "from scipy.stats import kendalltau\n",
    "from sklearn.preprocessing import MinMaxScaler\n",
    "import matplotlib\n",
    "from IPython.display import display, HTML, Image\n",
    "import json\n",
    "from scipy import stats\n",
    "%matplotlib inline\n",
    "import dataframe_image as dfi\n",
    "import mgwr\n",
    "import libpysal as ps\n",
    "from mgwr.gwr import GWR, MGWR\n",
    "from mgwr.sel_bw import Sel_BW\n",
    "from mgwr.utils import compare_surfaces, truncate_colormap\n",
    "from matplotlib.colors import LinearSegmentedColormap\n",
    "from shapely.geometry import Point\n",
    "import pysal\n",
    "from pysal.model import spreg\n",
    "import textwrap\n",
    "import matplotlib.colors as colors#\n",
    "import statistics"
   ]
  },
  {
   "cell_type": "markdown",
   "id": "d59a4ffd",
   "metadata": {},
   "source": [
    "## Read in the Data"
   ]
  },
  {
   "cell_type": "code",
   "execution_count": null,
   "id": "6d43bbcc",
   "metadata": {},
   "outputs": [],
   "source": [
    "# read in the Number of Households Data\n",
    "file_path = \"C:/Users/medaamm/OneDrive - University of Leeds/Project 1 Final Paper/DSDP-Project-1/Datasets/Number of Households Data.xlsx\"\n",
    "NumHouse = pd.read_excel(file_path)\n",
    "\n",
    "# read in the Population density Data\n",
    "file_path = \"C:/Users/medaamm/OneDrive - University of Leeds/Project 1 Final Paper/DSDP-Project-1/Datasets/Population Density Data.xlsx\"\n",
    "PopDensity = pd.read_excel(file_path)\n",
    "\n",
    "# read in the RUC classification Data\n",
    "file_path = \"C:/Users/medaamm/OneDrive - University of Leeds/Project 1 Final Paper/DSDP-Project-1/Datasets/Rural Urban Classification.xlsx\"\n",
    "RUC11 = pd.read_excel(file_path)\n",
    "\n",
    "# read in the LSOA11 - LSOA21 Lookup data\n",
    "file_path = \"C:/Users/medaamm/OneDrive - University of Leeds/Project 1 Final Paper/DSDP-Project-1/Datasets/LSOA (2011) to LSOA (2021).csv\"\n",
    "LSOA11_21 = pd.read_csv(file_path)\n",
    "\n",
    "# read in the LSOA21 - MSOA21 Lookup data\n",
    "file_path = \"C:/Users/medaamm/OneDrive - University of Leeds/Project 1 Final Paper/DSDP-Project-1/Datasets/LSOA 2021 to MSOA 2021.xlsx\"\n",
    "LSOA21_MSOA21 = pd.read_excel(file_path)\n",
    "\n",
    "# read in the population age data\n",
    "file_path = \"C:/Users/medaamm/OneDrive - University of Leeds/Project 1 Final Paper/DSDP-Project-1/Datasets/Oxfordshire Age by Single Year.xlsx\"\n",
    "Ox_PopAge = pd.read_excel(file_path)\n",
    "\n",
    "# read in the household composition data\n",
    "file_path = \"C:/Users/medaamm/OneDrive - University of Leeds/Project 1 Final Paper/DSDP-Project-1/Datasets/Household Composition Data (2).xlsx\"\n",
    "Ox_Household_Comp = pd.read_excel(file_path)"
   ]
  },
  {
   "cell_type": "markdown",
   "id": "2b0176a4",
   "metadata": {},
   "source": [
    "## Group the population age data to get the average age per MSOA"
   ]
  },
  {
   "cell_type": "code",
   "execution_count": null,
   "id": "5cafa2f9",
   "metadata": {},
   "outputs": [],
   "source": [
    "def weighted_average(MSOA21CD):\n",
    "    return round((MSOA21CD['Number']*MSOA21CD['Age (101 categories) Code']).sum()/MSOA21CD['Number'].sum())"
   ]
  },
  {
   "cell_type": "code",
   "execution_count": null,
   "id": "4151476d",
   "metadata": {},
   "outputs": [],
   "source": [
    "MSOA_Avg_Age = pd.DataFrame(Ox_PopAge.groupby(['MSOA21CD','MSOA21NM']).apply(weighted_average).reset_index())\n",
    "MSOA_Avg_Age = MSOA_Avg_Age.rename(columns = {0:'Average Age'})"
   ]
  },
  {
   "cell_type": "markdown",
   "id": "498d896b",
   "metadata": {},
   "source": [
    "### Merge the population age data with the LSOA-MSOA 21 Lookup"
   ]
  },
  {
   "cell_type": "code",
   "execution_count": null,
   "id": "9bce28f2",
   "metadata": {},
   "outputs": [],
   "source": [
    "Ox_Avg_Age = MSOA_Avg_Age.merge(LSOA21_MSOA21[['LSOA21CD','LSOA21NM','MSOA21CD']], on='MSOA21CD',how='inner')"
   ]
  },
  {
   "cell_type": "code",
   "execution_count": null,
   "id": "e75b1fea",
   "metadata": {},
   "outputs": [],
   "source": [
    "Ox_Avg_Age = Ox_Avg_Age.drop_duplicates()"
   ]
  },
  {
   "cell_type": "code",
   "execution_count": null,
   "id": "9f052c3a",
   "metadata": {},
   "outputs": [],
   "source": [
    "Ox_Avg_Age = Ox_Avg_Age.reindex(columns = ['MSOA21CD','MSOA21NM','LSOA21CD','LSOA21NM','Average Age'])"
   ]
  },
  {
   "cell_type": "markdown",
   "id": "676eec39",
   "metadata": {},
   "source": [
    "## Merge the LSOA lookup table with the demographics data"
   ]
  },
  {
   "cell_type": "code",
   "execution_count": null,
   "id": "48d33485",
   "metadata": {},
   "outputs": [],
   "source": [
    "Ox_dem = RUC11.merge(LSOA11_21[['LSOA11CD','LSOA21CD','LSOA21NM']], on='LSOA11CD',how='inner')\n",
    "Ox_dem = Ox_dem.merge(PopDensity[['LSOA21CD','PopDensity']], on='LSOA21CD', how='inner')\n",
    "Ox_dem = Ox_dem.merge(NumHouse[['LSOA21CD','NumHouse']], on='LSOA21CD',how='inner')"
   ]
  },
  {
   "cell_type": "code",
   "execution_count": null,
   "id": "24b00756",
   "metadata": {},
   "outputs": [],
   "source": [
    "desired_order = ['LSOA11CD','LSOA11NM','LSOA21CD','LSOA21NM','RUC11CD','RUC11','PopDensity','NumHouse']\n",
    "Ox_dem = Ox_dem.reindex(columns=desired_order)"
   ]
  },
  {
   "cell_type": "code",
   "execution_count": null,
   "id": "c8f84e93",
   "metadata": {},
   "outputs": [],
   "source": [
    "Ox_dem = Ox_dem.merge(Ox_Avg_Age[['LSOA21CD','Average Age']], on='LSOA21CD', how='inner')"
   ]
  },
  {
   "cell_type": "code",
   "execution_count": null,
   "id": "0092d57c",
   "metadata": {},
   "outputs": [],
   "source": [
    "Ox_Household_Comp.columns"
   ]
  },
  {
   "cell_type": "code",
   "execution_count": null,
   "id": "58a69157",
   "metadata": {},
   "outputs": [],
   "source": [
    "Ox_dem = Ox_dem.merge(Ox_Household_Comp[['LSOA21CD','One-person household: Aged 66 years and over',\n",
    "       'One-person household: Other',\n",
    "       'Single family household: All aged 66 years and over',\n",
    "       'Single family household: Married or civil partnership couple: No children',\n",
    "       'Single family household: Married or civil partnership couple: Dependent children',\n",
    "       'Single family household: Married or civil partnership couple: All children non-dependent',\n",
    "       'Single family household: Cohabiting couple family: No children',\n",
    "       'Single family household: Cohabiting couple family: With dependent children',\n",
    "       'Single family household: Cohabiting couple family: All children non-dependent',\n",
    "       'Single family household: Lone parent family: With dependent children',\n",
    "       'Single family household: Lone parent family: All children non-dependent',\n",
    "       'Single family household: Other single family household: Other family composition',\n",
    "       'Other household types: With dependent children',\n",
    "       'Other household types: Other, including all full-time students and all aged 66 years and over']],\n",
    "                     on='LSOA21CD',how='inner')"
   ]
  },
  {
   "cell_type": "markdown",
   "id": "dac69273",
   "metadata": {},
   "source": [
    "## Add rank columns for each of population density and number of households"
   ]
  },
  {
   "cell_type": "code",
   "execution_count": null,
   "id": "056239d0",
   "metadata": {
    "scrolled": true
   },
   "outputs": [],
   "source": [
    "Ox_dem['Rank_PopDensity'] = pd.qcut(Ox_dem['PopDensity'],10,labels=np.arange(1,11))\n",
    "Ox_dem['Rank_NumHouse'] = pd.qcut(Ox_dem['NumHouse'],10,labels=np.arange(1,11))"
   ]
  },
  {
   "cell_type": "markdown",
   "id": "57e5dd12",
   "metadata": {},
   "source": [
    "## Export the file to an Excel workbook"
   ]
  },
  {
   "cell_type": "code",
   "execution_count": null,
   "id": "c80ba0fd",
   "metadata": {},
   "outputs": [],
   "source": [
    "Ox_dem.to_excel(\"C:/Users/medaamm/OneDrive - University of Leeds/Project 1 Final Paper/DSDP-Project-1/Datasets/Oxon Demographics (RUC, Household, Pop Density).xlsx\")"
   ]
  }
 ],
 "metadata": {
  "kernelspec": {
   "display_name": "PPFI_ENV",
   "language": "python",
   "name": "ppfi_env"
  },
  "language_info": {
   "codemirror_mode": {
    "name": "ipython",
    "version": 3
   },
   "file_extension": ".py",
   "mimetype": "text/x-python",
   "name": "python",
   "nbconvert_exporter": "python",
   "pygments_lexer": "ipython3",
   "version": "3.11.5"
  }
 },
 "nbformat": 4,
 "nbformat_minor": 5
}
