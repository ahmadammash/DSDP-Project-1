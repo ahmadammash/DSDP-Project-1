{
 "cells": [
  {
   "cell_type": "code",
   "execution_count": 7,
   "id": "89f6f424",
   "metadata": {},
   "outputs": [],
   "source": [
    "import pandas as pd\n",
    "import numpy as np\n",
    "import geopandas as gpd\n",
    "import matplotlib.pyplot as plt\n",
    "import pyproj\n",
    "import contextily as ctx\n",
    "import seaborn as sns\n",
    "import geoplot as gplt\n",
    "import geoplot.crs as gcrs\n",
    "import folium\n",
    "import matplotlib.ticker as ticker\n",
    "import scipy.stats\n",
    "import webbrowser\n",
    "from scipy.stats import shapiro\n",
    "import statsmodels.api as sm\n",
    "from scipy.stats import spearmanr\n",
    "from scipy.stats import kendalltau\n",
    "from sklearn.preprocessing import MinMaxScaler\n",
    "import matplotlib\n",
    "from IPython.display import display, HTML, Image\n",
    "import json\n",
    "from scipy import stats\n",
    "%matplotlib inline\n",
    "import dataframe_image as dfi\n",
    "import mgwr\n",
    "import libpysal as ps\n",
    "from mgwr.gwr import GWR, MGWR\n",
    "from mgwr.sel_bw import Sel_BW\n",
    "from mgwr.utils import compare_surfaces, truncate_colormap\n",
    "from matplotlib.colors import LinearSegmentedColormap\n",
    "from shapely.geometry import Point\n",
    "import pysal\n",
    "from pysal.model import spreg\n",
    "import textwrap\n",
    "import matplotlib.colors as colors#\n",
    "import statistics"
   ]
  },
  {
   "cell_type": "markdown",
   "id": "78ead398",
   "metadata": {},
   "source": [
    "### Import the datasets"
   ]
  },
  {
   "cell_type": "code",
   "execution_count": 8,
   "id": "16cba395",
   "metadata": {},
   "outputs": [],
   "source": [
    "file_path = \"C:/Users/medaamm/OneDrive - University of Leeds/Project 1 Final Paper/DSDP-Project-1/Datasets/LSOA (2011) to LSOA (2021).csv\"\n",
    "LSOA_2011_2021 = pd.read_csv(file_path)\n",
    "\n",
    "file_path = \"C:/Users/medaamm/OneDrive - University of Leeds/Project 1 Final Paper/DSDP-Project-1/Datasets/LSOA (2011) to Ward (2016).xlsx\"\n",
    "LSOA11_WD16 = pd.read_excel(file_path)\n",
    "\n",
    "file_path = \"C:/Users/medaamm/OneDrive - University of Leeds/Project 1 Final Paper/DSDP-Project-1/Datasets/PPFI (V2).csv\"\n",
    "PPFI_Ox_V2_Reordered = pd.read_csv(file_path)\n",
    "\n",
    "file_path = \"C:/Users/medaamm/OneDrive - University of Leeds/Project 1 Final Paper/DSDP-Project-1/Datasets/Oxfordshire LSOAs.csv\"\n",
    "Ox_LSOAs = pd.read_csv(file_path)\n",
    "\n",
    "file_path = \"C:/Users/medaamm/OneDrive - University of Leeds/Project 1 Final Paper/DSDP-Project-1/Datasets/Oxfordshire MSOAs Names and Codes.xlsx\"\n",
    "Ox_MSOAs = pd.read_excel(file_path)\n",
    "\n",
    "file_path = \"C:/Users/medaamm/OneDrive - University of Leeds/Project 1 Final Paper/DSDP-Project-1/Datasets/Cleaned - Oxfordshire Ward Level Data.xlsx\"\n",
    "Ward_Health = pd.read_excel(file_path, sheet_name=\"Combined\")\n",
    "\n",
    "file_path = \"C:/Users/medaamm/OneDrive - University of Leeds/Project 1 Final Paper/DSDP-Project-1/Datasets/LSOA 2021 to MSOA 2021.xlsx\"\n",
    "LSOA21_MSOA21 = pd.read_excel(file_path)\n",
    "\n",
    "file_path = \"C:/Users/medaamm/OneDrive - University of Leeds/Project 1 Final Paper/DSDP-Project-1/Datasets/MSOA (2011) to MSOA (2021).xlsx\"\n",
    "MSOA11_MSOA21 = pd.read_excel(file_path)"
   ]
  },
  {
   "cell_type": "markdown",
   "id": "f5585e0d",
   "metadata": {},
   "source": [
    "### Merge the LSOA lookup table with the Oxon LSOAs to filter"
   ]
  },
  {
   "cell_type": "code",
   "execution_count": 9,
   "id": "d46cd93e",
   "metadata": {},
   "outputs": [],
   "source": [
    "Lookup_Table = LSOA_2011_2021.merge(Ox_LSOAs['LSOA11CD'], on='LSOA11CD',how='inner')"
   ]
  },
  {
   "cell_type": "markdown",
   "id": "afe41706",
   "metadata": {},
   "source": [
    "### Merge with the LSOA-Ward lookup table"
   ]
  },
  {
   "cell_type": "code",
   "execution_count": 10,
   "id": "39f60a53",
   "metadata": {},
   "outputs": [],
   "source": [
    "Lookup_Table = Lookup_Table.merge(LSOA11_WD16[['WD16CD','WD16NM','LSOA11CD']],\n",
    "                                                 on='LSOA11CD',how='inner')"
   ]
  },
  {
   "cell_type": "markdown",
   "id": "0aa2a88a",
   "metadata": {},
   "source": [
    "### Filter the MSOA for Oxfordshire"
   ]
  },
  {
   "cell_type": "code",
   "execution_count": 11,
   "id": "ae73ac00",
   "metadata": {},
   "outputs": [],
   "source": [
    "MSOA11_MSOA21 = MSOA11_MSOA21.drop_duplicates()"
   ]
  },
  {
   "cell_type": "code",
   "execution_count": 12,
   "id": "0281286c",
   "metadata": {},
   "outputs": [],
   "source": [
    "MSOA11_MSOA21 = MSOA11_MSOA21.merge(Ox_MSOAs['MSOA11CD'], on='MSOA11CD',how='inner')"
   ]
  },
  {
   "cell_type": "markdown",
   "id": "57454c70",
   "metadata": {},
   "source": [
    "### Merge with MSOA data"
   ]
  },
  {
   "cell_type": "code",
   "execution_count": 13,
   "id": "a26eaa4e",
   "metadata": {},
   "outputs": [],
   "source": [
    "Lookup_Table = Lookup_Table.merge(LSOA21_MSOA21[['LSOA21CD','MSOA21CD','MSOA21NM']], \n",
    "                                                 on='LSOA21CD',how='inner')"
   ]
  },
  {
   "cell_type": "code",
   "execution_count": 14,
   "id": "8f8bf414",
   "metadata": {},
   "outputs": [],
   "source": [
    "Lookup_Table = Lookup_Table.merge(MSOA11_MSOA21[['MSOA11CD','MSOA11NM','MSOA21CD']],\n",
    "                                                 on='MSOA21CD',how='inner')"
   ]
  },
  {
   "cell_type": "markdown",
   "id": "bae7f9a7",
   "metadata": {},
   "source": [
    "### Export the lookup table to an Excel file"
   ]
  },
  {
   "cell_type": "code",
   "execution_count": 15,
   "id": "bfaf55f4",
   "metadata": {},
   "outputs": [],
   "source": [
    "Lookup_Table.to_excel(\"C:/Users/medaamm/OneDrive - University of Leeds/Project 1 Final Paper/DSDP-Project-1/Datasets/Full Lookup.xlsx\")"
   ]
  },
  {
   "cell_type": "markdown",
   "id": "ac0843f7",
   "metadata": {},
   "source": [
    "### Merge the PPFI V2 data with the Oxon LSOAs to filter"
   ]
  },
  {
   "cell_type": "code",
   "execution_count": 16,
   "id": "053e452c",
   "metadata": {},
   "outputs": [],
   "source": [
    "PPFI_Ox_V2_Reordered = PPFI_Ox_V2_Reordered.merge(LSOA_2011_2021[['LSOA21CD','LSOA11CD','LSOA11NM']], \n",
    "                                                 on='LSOA21CD',how='inner')"
   ]
  },
  {
   "cell_type": "markdown",
   "id": "5c06469c",
   "metadata": {},
   "source": [
    "### Merge with the PPFI V2 data with the Oxon LSOAs to filter"
   ]
  },
  {
   "cell_type": "code",
   "execution_count": 17,
   "id": "84a34699",
   "metadata": {},
   "outputs": [],
   "source": [
    "PPFI_Ox_V2_Reordered = PPFI_Ox_V2_Reordered.merge(Ox_LSOAs[['LSOA11CD','District']], \n",
    "                                                 on='LSOA11CD',how='inner')"
   ]
  },
  {
   "cell_type": "markdown",
   "id": "5b5f4d12",
   "metadata": {},
   "source": [
    "### Create the quantiles for the combined decile"
   ]
  },
  {
   "cell_type": "code",
   "execution_count": 18,
   "id": "950c79db",
   "metadata": {},
   "outputs": [],
   "source": [
    "PPFI_Ox_V2_Reordered['pp_dec_Ox'] = pd.qcut(PPFI_Ox_V2_Reordered['combined'],\n",
    "                                                 q=10,\n",
    "                                                  labels=range(1,11))"
   ]
  },
  {
   "cell_type": "markdown",
   "id": "ee9747c3",
   "metadata": {},
   "source": [
    "### Create the quantiles for the separate PPFI dimensions"
   ]
  },
  {
   "cell_type": "code",
   "execution_count": 19,
   "id": "8f1ffec5",
   "metadata": {},
   "outputs": [],
   "source": [
    "PPFI_Ox_V2_Reordered['SM_Prox_dec_Ox'] = pd.qcut(PPFI_Ox_V2_Reordered['domain_supermarket_proximity'],\n",
    "                                             q=10, labels=range(1,11))\n",
    "PPFI_Ox_V2_Reordered['SM_Acc_dec_Ox'] = pd.qcut(PPFI_Ox_V2_Reordered['domain_supermarket_accessibility'],\n",
    "                                            q=10, labels=range(1,11))\n",
    "PPFI_Ox_V2_Reordered['NonSM_Prox_dec_Ox'] = pd.qcut(PPFI_Ox_V2_Reordered['domain_nonsupermarket_proximity'],\n",
    "                                            q=10, labels=range(1,11))\n",
    "PPFI_Ox_V2_Reordered['fuelPov_dec_Ox'] = pd.qcut(PPFI_Ox_V2_Reordered['domain_fuel_poverty'],\n",
    "                                             q=10, labels=range(1,11))\n",
    "PPFI_Ox_V2_Reordered['SD_dec_Ox'] = pd.qcut(PPFI_Ox_V2_Reordered['domain_socio_demographic'],\n",
    "                                            q=10, labels=range(1,11))\n",
    "PPFI_Ox_V2_Reordered['FFF_dec_Ox'] = pd.qcut(PPFI_Ox_V2_Reordered['domain_food_for_families'],\n",
    "                                             q=10, labels=range(1,11))"
   ]
  },
  {
   "cell_type": "code",
   "execution_count": 20,
   "id": "280df9ad",
   "metadata": {},
   "outputs": [],
   "source": [
    "PPFI_Ox_V2_Reordered['E_Comm_dec_Ox'] = pd.cut(PPFI_Ox_V2_Reordered['domain_ecommerce_access'],bins=10, labels=range(1,11))"
   ]
  },
  {
   "cell_type": "markdown",
   "id": "3081b1fb",
   "metadata": {},
   "source": [
    "### Merge the PPFI with the Ward Level Health Data"
   ]
  },
  {
   "cell_type": "code",
   "execution_count": 21,
   "id": "4d999b50",
   "metadata": {},
   "outputs": [],
   "source": [
    "PPFI_Ox_V2_Reordered = PPFI_Ox_V2_Reordered.merge(LSOA11_WD16[['LSOA11CD','WD16CD','WD16NM']],\n",
    "                                                 how='inner',\n",
    "                                                 on='LSOA11CD')"
   ]
  },
  {
   "cell_type": "code",
   "execution_count": 22,
   "id": "70f6da57",
   "metadata": {},
   "outputs": [],
   "source": [
    "Full_Merge_Ox = PPFI_Ox_V2_Reordered.merge(Ward_Health[['WD16CD','Indicator','Value','Lower CI','Upper CI','Oxfordshire Comparison']])"
   ]
  },
  {
   "cell_type": "markdown",
   "id": "f3ccd484",
   "metadata": {},
   "source": [
    "### Export the Final Dataset to an Excel file"
   ]
  },
  {
   "cell_type": "code",
   "execution_count": 23,
   "id": "820c7af5",
   "metadata": {},
   "outputs": [],
   "source": [
    "Full_Merge_Ox.to_excel(\"C:/Users/medaamm/OneDrive - University of Leeds/Project 1 Final Paper/DSDP-Project-1/Datasets/Full Merged Ox.xlsx\")"
   ]
  }
 ],
 "metadata": {
  "kernelspec": {
   "display_name": "PPFI_ENV",
   "language": "python",
   "name": "ppfi_env"
  },
  "language_info": {
   "codemirror_mode": {
    "name": "ipython",
    "version": 3
   },
   "file_extension": ".py",
   "mimetype": "text/x-python",
   "name": "python",
   "nbconvert_exporter": "python",
   "pygments_lexer": "ipython3",
   "version": "3.11.5"
  }
 },
 "nbformat": 4,
 "nbformat_minor": 5
}
